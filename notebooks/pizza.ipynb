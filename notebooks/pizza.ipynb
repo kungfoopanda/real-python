{
 "cells": [
  {
   "cell_type": "code",
   "execution_count": 1,
   "metadata": {
    "collapsed": true,
    "pycharm": {
     "is_executing": false
    }
   },
   "outputs": [],
   "source": [
    "import pandas as pd\n",
    "\n",
    "df = pd.read_csv(\"../data/Datafiniti_Pizza_Restaurants_and_the_Pizza_They_Sell_May19.csv\")\n"
   ]
  },
  {
   "cell_type": "code",
   "execution_count": 2,
   "outputs": [
    {
     "data": {
      "text/plain": "(10000, 24)"
     },
     "metadata": {},
     "output_type": "execute_result",
     "execution_count": 2
    }
   ],
   "source": [
    "df.shape"
   ],
   "metadata": {
    "collapsed": false,
    "pycharm": {
     "name": "#%%\n",
     "is_executing": false
    }
   }
  },
  {
   "cell_type": "code",
   "execution_count": 3,
   "outputs": [
    {
     "traceback": [
      "\u001b[0;31m---------------------------------------------------------------------------\u001b[0m",
      "\u001b[0;31mAttributeError\u001b[0m                            Traceback (most recent call last)",
      "\u001b[0;32m<ipython-input-3-d4b14d29782b>\u001b[0m in \u001b[0;36m<module>\u001b[0;34m\u001b[0m\n\u001b[0;32m----> 1\u001b[0;31m \u001b[0mdf\u001b[0m\u001b[0;34m.\u001b[0m\u001b[0molumns\u001b[0m\u001b[0;34m\u001b[0m\u001b[0;34m\u001b[0m\u001b[0m\n\u001b[0m\u001b[1;32m      2\u001b[0m \u001b[0;34m\u001b[0m\u001b[0m\n",
      "\u001b[0;32m/anaconda3/envs/real-python/lib/python3.7/site-packages/pandas/core/generic.py\u001b[0m in \u001b[0;36m__getattr__\u001b[0;34m(self, name)\u001b[0m\n\u001b[1;32m   5178\u001b[0m             \u001b[0;32mif\u001b[0m \u001b[0mself\u001b[0m\u001b[0;34m.\u001b[0m\u001b[0m_info_axis\u001b[0m\u001b[0;34m.\u001b[0m\u001b[0m_can_hold_identifiers_and_holds_name\u001b[0m\u001b[0;34m(\u001b[0m\u001b[0mname\u001b[0m\u001b[0;34m)\u001b[0m\u001b[0;34m:\u001b[0m\u001b[0;34m\u001b[0m\u001b[0;34m\u001b[0m\u001b[0m\n\u001b[1;32m   5179\u001b[0m                 \u001b[0;32mreturn\u001b[0m \u001b[0mself\u001b[0m\u001b[0;34m[\u001b[0m\u001b[0mname\u001b[0m\u001b[0;34m]\u001b[0m\u001b[0;34m\u001b[0m\u001b[0;34m\u001b[0m\u001b[0m\n\u001b[0;32m-> 5180\u001b[0;31m             \u001b[0;32mreturn\u001b[0m \u001b[0mobject\u001b[0m\u001b[0;34m.\u001b[0m\u001b[0m__getattribute__\u001b[0m\u001b[0;34m(\u001b[0m\u001b[0mself\u001b[0m\u001b[0;34m,\u001b[0m \u001b[0mname\u001b[0m\u001b[0;34m)\u001b[0m\u001b[0;34m\u001b[0m\u001b[0;34m\u001b[0m\u001b[0m\n\u001b[0m\u001b[1;32m   5181\u001b[0m \u001b[0;34m\u001b[0m\u001b[0m\n\u001b[1;32m   5182\u001b[0m     \u001b[0;32mdef\u001b[0m \u001b[0m__setattr__\u001b[0m\u001b[0;34m(\u001b[0m\u001b[0mself\u001b[0m\u001b[0;34m,\u001b[0m \u001b[0mname\u001b[0m\u001b[0;34m,\u001b[0m \u001b[0mvalue\u001b[0m\u001b[0;34m)\u001b[0m\u001b[0;34m:\u001b[0m\u001b[0;34m\u001b[0m\u001b[0;34m\u001b[0m\u001b[0m\n",
      "\u001b[0;31mAttributeError\u001b[0m: 'DataFrame' object has no attribute 'olumns'"
     ],
     "ename": "AttributeError",
     "evalue": "'DataFrame' object has no attribute 'olumns'",
     "output_type": "error"
    }
   ],
   "source": [
    "df.olumns"
   ],
   "metadata": {
    "collapsed": false,
    "pycharm": {
     "name": "#%%\n",
     "is_executing": false
    }
   }
  },
  {
   "cell_type": "code",
   "execution_count": 4,
   "outputs": [
    {
     "data": {
      "text/plain": "Index(['id', 'dateAdded', 'dateUpdated', 'address', 'categories',\n       'primaryCategories', 'city', 'country', 'keys', 'latitude', 'longitude',\n       'menuPageURL', 'menus.amountMax', 'menus.amountMin', 'menus.currency',\n       'menus.dateSeen', 'menus.description', 'menus.name', 'name',\n       'postalCode', 'priceRangeCurrency', 'priceRangeMin', 'priceRangeMax',\n       'province'],\n      dtype='object')"
     },
     "metadata": {},
     "output_type": "execute_result",
     "execution_count": 4
    }
   ],
   "source": [
    "df.columns"
   ],
   "metadata": {
    "collapsed": false,
    "pycharm": {
     "name": "#%%\n",
     "is_executing": false
    }
   }
  },
  {
   "cell_type": "code",
   "execution_count": 5,
   "outputs": [
    {
     "data": {
      "text/plain": "<bound method NDFrame.head of                         id             dateAdded           dateUpdated  \\\n0     AVz3Y-7h3D1zeR_xDAqm  2017-06-30T05:05:40Z  2019-05-01T15:43:09Z   \n1     AVweGPFF_7pvs4fzAAzQ  2016-04-02T04:02:49Z  2019-05-01T15:27:50Z   \n2     AVwdRGa9_7pvs4fz4E3K  2016-03-03T18:39:49Z  2019-05-01T12:52:25Z   \n3     AVwdX4psIN2L1WUfvJB1  2016-03-29T05:08:59Z  2019-05-01T12:52:20Z   \n4     AVwdaeTtkufWRAb55pSH  2016-03-31T02:34:04Z  2019-05-01T12:50:45Z   \n...                    ...                   ...                   ...   \n9995  AVwdKXFYByjofQCxmIyZ  2016-03-21T00:12:46Z  2018-01-08T10:25:27Z   \n9996  AVwdKXFYByjofQCxmIyZ  2016-03-21T00:12:46Z  2018-01-08T10:25:27Z   \n9997  AVz6kzsQFcQ3k02bDhwQ  2017-06-30T19:56:11Z  2018-01-07T10:51:29Z   \n9998  AVz6kzsQFcQ3k02bDhwQ  2017-06-30T19:56:11Z  2018-01-07T10:51:29Z   \n9999  AVwdG9zTkufWRAb52Y2A  2015-10-23T01:57:27Z  2018-01-04T17:57:59Z   \n\n                    address  \\\n0          4203 E Kiehl Ave   \n1         25 E Camelback Rd   \n2           3703 Paxton Ave   \n3           30495 John R Rd   \n4          3600 Eastern Ave   \n...                     ...   \n9995      1126 E Lovejoy St   \n9996      1126 E Lovejoy St   \n9997         3641 E Main St   \n9998         3641 E Main St   \n9999  7460 W Lake Mead Blvd   \n\n                                             categories  \\\n0     Pizza,Restaurant,American restaurants,Pizza Pl...   \n1                         Pizza,Pizza Place,Restaurants   \n2                    Restaurant,Pizza Place,Restaurants   \n3          Pizza,Carry-out food,Pizza Place,Restaurants   \n4     Pizza,American restaurants,Pizza Place,Pizza e...   \n...                                                 ...   \n9995                                        Pizza Place   \n9996                                        Pizza Place   \n9997                            Pizza Place,Restaurants   \n9998                            Pizza Place,Restaurants   \n9999             Pizza Place,Restaurant,Fast Food,Pizza   \n\n                  primaryCategories             city country  \\\n0     Accommodation & Food Services         Sherwood      US   \n1     Accommodation & Food Services          Phoenix      US   \n2     Accommodation & Food Services       Cincinnati      US   \n3     Accommodation & Food Services  Madison Heights      US   \n4     Accommodation & Food Services        Baltimore      US   \n...                             ...              ...     ...   \n9995  Accommodation & Food Services          Buffalo      US   \n9996  Accommodation & Food Services          Buffalo      US   \n9997  Accommodation & Food Services    Saint Charles      US   \n9998  Accommodation & Food Services    Saint Charles      US   \n9999  Accommodation & Food Services        Las Vegas      US   \n\n                                              keys   latitude  ...  \\\n0         us/ar/sherwood/4203ekiehlave/-1051391616  34.832300  ...   \n1          us/az/phoenix/25ecamelbackrd/-727422936  33.509266  ...   \n2        us/oh/cincinnati/3703paxtonave/-619797122  39.144883  ...   \n3     us/mi/madisonheights/30495johnrrd/-874863116  42.516669  ...   \n4       us/md/baltimore/3600easternave/-1270965359  39.286630  ...   \n...                                            ...        ...  ...   \n9995       us/ny/buffalo/1126elovejoyst/1921210585  42.889759  ...   \n9996       us/ny/buffalo/1126elovejoyst/1921210585  42.889759  ...   \n9997     us/il/saintcharles/3641emainst/1336179832  41.921300  ...   \n9998     us/il/saintcharles/3641emainst/1336179832  41.921300  ...   \n9999    us/nv/lasvegas/7460wlakemeadblvd/330000776  36.196180  ...   \n\n      menus.currency                                     menus.dateSeen  \\\n0                USD  2018-05-01T04:25:37.197Z,2018-04-16T04:36:02.3...   \n1                USD  2018-03-03T02:38:06.381Z,2018-01-18T20:18:10.0...   \n2                USD  2018-04-10T07:58:34.585Z,2018-04-21T05:43:21.4...   \n3                USD          2016-10-20T21:50:02Z,2016-03-29T05:08:59Z   \n4                USD                               2016-03-31T02:34:04Z   \n...              ...                                                ...   \n9995             USD  2017-12-11T12:44:00.000Z,2016-03-21T00:13:00.0...   \n9996             USD                           2017-12-11T12:44:00.000Z   \n9997             USD  2017-12-10T18:55:00.000Z,2017-10-28T21:52:00.000Z   \n9998             USD  2017-12-10T18:55:00.000Z,2017-10-28T21:52:00.000Z   \n9999             USD  2017-12-08T19:07:00.000Z,2017-10-28T22:35:00.000Z   \n\n                                      menus.description  \\\n0                                                   NaN   \n1                                                   NaN   \n2     a saucelessampcomma double cheese pizza with a...   \n3                                                   NaN   \n4                                                   NaN   \n...                                                 ...   \n9995                                                NaN   \n9996                                                NaN   \n9997                                                NaN   \n9998                                                NaN   \n9999                                                NaN   \n\n                                           menus.name                 name  \\\n0                                        Cheese Pizza   Shotgun Dans Pizza   \n1                                        Pizza Cookie     Sauce Pizza Wine   \n2                                        Pizza Blanca        Mios Pizzeria   \n3                                         Small Pizza  Hungry Howies Pizza   \n4                                           Pizza Sub     Spartan Pizzeria   \n...                                               ...                  ...   \n9995                                Super Steak Pizza   Carbone's Pizzeria   \n9996                      Large Cheese & 1 Item Pizza   Carbone's Pizzeria   \n9997  Individual 6\" Pepperoni Stuffed Deep Dish Pizza     Giordano's Pizza   \n9998     Individual 6\" Cheese Stuffed Deep Dish Pizza     Giordano's Pizza   \n9999                      King Arthur's Supreme Pizza    Round Table Pizza   \n\n     postalCode priceRangeCurrency priceRangeMin priceRangeMax province  \n0         72120                USD             0            25       AR  \n1         85012                USD             0            25       AZ  \n2         45209                USD             0            25       OH  \n3         48071                USD            25            40       MI  \n4         21224                USD             0            25       MD  \n...         ...                ...           ...           ...      ...  \n9995      14206                USD             0            25       NY  \n9996      14206                USD             0            25       NY  \n9997      60174                USD             0            25       IL  \n9998      60174                USD             0            25       IL  \n9999      89128                USD             0            25       NV  \n\n[10000 rows x 24 columns]>"
     },
     "metadata": {},
     "output_type": "execute_result",
     "execution_count": 5
    }
   ],
   "source": [
    "df.head"
   ],
   "metadata": {
    "collapsed": false,
    "pycharm": {
     "name": "#%%\n",
     "is_executing": false
    }
   }
  },
  {
   "cell_type": "code",
   "execution_count": null,
   "outputs": [],
   "source": [
    "\n"
   ],
   "metadata": {
    "collapsed": false,
    "pycharm": {
     "name": "#%%\n"
    }
   }
  }
 ],
 "metadata": {
  "language_info": {
   "codemirror_mode": {
    "name": "ipython",
    "version": 2
   },
   "file_extension": ".py",
   "mimetype": "text/x-python",
   "name": "python",
   "nbconvert_exporter": "python",
   "pygments_lexer": "ipython2",
   "version": "2.7.6"
  },
  "kernelspec": {
   "name": "python3",
   "language": "python",
   "display_name": "Python 3"
  },
  "pycharm": {
   "stem_cell": {
    "cell_type": "raw",
    "source": [],
    "metadata": {
     "collapsed": false
    }
   }
  }
 },
 "nbformat": 4,
 "nbformat_minor": 0
}